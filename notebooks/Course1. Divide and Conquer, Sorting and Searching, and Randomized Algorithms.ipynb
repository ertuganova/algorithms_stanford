{
 "cells": [
  {
   "cell_type": "markdown",
   "metadata": {},
   "source": [
    "# Merge Sort"
   ]
  },
  {
   "cell_type": "markdown",
   "metadata": {},
   "source": [
    "Divide and conquer.  \n",
    "Improves over selection, insertion and bubble sorts.\n",
    "![Merge step](../images/merge.png)"
   ]
  },
  {
   "cell_type": "markdown",
   "metadata": {},
   "source": [
    "![Merge step](../images/Merge-sort-example-300px.gif)"
   ]
  },
  {
   "cell_type": "code",
   "execution_count": 13,
   "metadata": {},
   "outputs": [
    {
     "name": "stdout",
     "output_type": "stream",
     "text": [
      "863984687\n",
      "[8, 6, 3, 9, 8, 4, 6, 8, 7]\n"
     ]
    }
   ],
   "source": [
    "input_array = [int(x) for x in input()]\n",
    "print(input_array)"
   ]
  },
  {
   "cell_type": "code",
   "execution_count": 32,
   "metadata": {
    "code_folding": []
   },
   "outputs": [
    {
     "data": {
      "text/plain": [
       "[3, 4, 6, 6, 7, 8, 8, 8, 9]"
      ]
     },
     "execution_count": 32,
     "metadata": {},
     "output_type": "execute_result"
    }
   ],
   "source": [
    "def merge_sort(input_array):\n",
    "    length = len(input_array)\n",
    "    if length > 1:\n",
    "        first_array = input_array[:length//2]\n",
    "        second_array = input_array[length//2:]\n",
    "        merge_sort(first_array)\n",
    "        merge_sort(second_array)\n",
    "        \n",
    "        i = 0\n",
    "        j = 0\n",
    "        k = 0\n",
    "        \n",
    "        while (len(first_array) > i and len(second_array) > j):\n",
    "            if first_array[i] <= second_array[j]:\n",
    "                input_array[k] = first_array[i]\n",
    "               # print(input_array)\n",
    "                i+=1\n",
    "                k+=1\n",
    "            else:\n",
    "                input_array[k] = second_array[j]\n",
    "                #print(input_array)\n",
    "                j+=1\n",
    "                k+=1\n",
    "            \n",
    "        while len(first_array) > i:\n",
    "            input_array[k] = first_array[i]\n",
    "            k+=1\n",
    "            i+=1\n",
    "            \n",
    "        while len(second_array) > j:\n",
    "            input_array[k] = second_array[j]\n",
    "            k+=1   \n",
    "            j+=1\n",
    "            \n",
    "    return input_array\n",
    "\n",
    "out = merge_sort(input_array)\n",
    "out"
   ]
  },
  {
   "cell_type": "code",
   "execution_count": null,
   "metadata": {},
   "outputs": [],
   "source": [
    "def merge_sort_2(input_array):\n",
    "    \n",
    "    array_length = len(input_array)  \n",
    "    \n",
    "    if array_length > 1:\n",
    "    \n",
    "        array_1 = input_array[:array_length//2]\n",
    "        array_2 = input_array[array_length//2:]\n",
    "        \n",
    "        array_1 = merge_sort_2(array_1)\n",
    "        array_2 = merge_sort_2(array_2)\n",
    "        \n",
    "        i = 0\n",
    "        j = 0\n",
    "        k = 0\n",
    "        \n",
    "        while ((len(array_1)>i) and (len(array_2)>j)):\n",
    "            if array_1[i] <= array_2[j]:\n",
    "                input_array[k] = array_1[i] \n",
    "                i+=1\n",
    "                k+=1\n",
    "            \n",
    "            else:\n",
    "                input_array[k] = array_2[j]\n",
    "                j+=1\n",
    "                k+=1\n",
    "    \n",
    "        \n",
    "        while len(array_1)>i:\n",
    "            input_array[k] = array_1[i]\n",
    "            i+=1\n",
    "            k+=1\n",
    "            \n",
    "        while len(array_2)>j:\n",
    "            input_array[k] = array_2[j]\n",
    "            j+=1\n",
    "            k+=1\n",
    "    \n",
    "    return input_array\n",
    "            \n",
    "out = merge_sort_2(input_array)\n",
    "out"
   ]
  },
  {
   "cell_type": "markdown",
   "metadata": {},
   "source": [
    "# Inversion Count "
   ]
  },
  {
   "cell_type": "markdown",
   "metadata": {},
   "source": [
    "Inversion Count for an array indicates – how far (or close) the array is from being sorted. If the array is already sorted, then the inversion count is 0, but if the array is sorted in the reverse order, the inversion count is the maximum. \n",
    "Formally speaking, two elements a[i] and a[j] form an inversion if a[i] > a[j] and i < j "
   ]
  },
  {
   "cell_type": "code",
   "execution_count": 99,
   "metadata": {},
   "outputs": [
    {
     "data": {
      "text/plain": [
       "([1, 1, 1, 5], 2)"
      ]
     },
     "execution_count": 99,
     "metadata": {},
     "output_type": "execute_result"
    }
   ],
   "source": [
    "def inversions_count(input_array, counted_inversions):\n",
    "    \n",
    "    array_length = len(input_array)  \n",
    "    \n",
    "    if array_length > 1:\n",
    "    \n",
    "        array_1 = input_array[:array_length//2]\n",
    "        array_2 = input_array[array_length//2:]\n",
    "        \n",
    "        array_1, counted_inversions = inversions_count(array_1, counted_inversions)\n",
    "        array_2, counted_inversions = inversions_count(array_2, counted_inversions)\n",
    "        \n",
    "        i = 0\n",
    "        j = 0\n",
    "        k = 0\n",
    "        \n",
    "        while ((len(array_1)>i) and (len(array_2)>j)):\n",
    "            if array_1[i] <= array_2[j]:\n",
    "                input_array[k] = array_1[i] \n",
    "                i+=1\n",
    "                k+=1\n",
    "            \n",
    "            else:\n",
    "                input_array[k] = array_2[j]\n",
    "                j+=1\n",
    "                k+=1\n",
    "                counted_inversions+=len(array_1[i:])\n",
    "    \n",
    "        \n",
    "        while len(array_1)>i:\n",
    "            input_array[k] = array_1[i]\n",
    "            i+=1\n",
    "            k+=1\n",
    "            \n",
    "        while len(array_2)>j:\n",
    "            input_array[k] = array_2[j]\n",
    "            j+=1\n",
    "            k+=1\n",
    "    \n",
    "    return input_array, counted_inversions\n",
    "            \n",
    "out = inversions_count([1, 5, 1, 1], 0)\n",
    "out"
   ]
  },
  {
   "cell_type": "code",
   "execution_count": 122,
   "metadata": {},
   "outputs": [],
   "source": [
    "with open('../extra_files/IntegerArray.txt') as f:\n",
    "    integers = f.read().strip().split('\\n')"
   ]
  },
  {
   "cell_type": "code",
   "execution_count": 126,
   "metadata": {},
   "outputs": [],
   "source": [
    "integers = [int(x) for x in integers]"
   ]
  },
  {
   "cell_type": "code",
   "execution_count": 127,
   "metadata": {},
   "outputs": [],
   "source": [
    "_, int_count = inversions_count(integers, 0)"
   ]
  },
  {
   "cell_type": "code",
   "execution_count": 128,
   "metadata": {},
   "outputs": [
    {
     "data": {
      "text/plain": [
       "2407905288"
      ]
     },
     "execution_count": 128,
     "metadata": {},
     "output_type": "execute_result"
    }
   ],
   "source": [
    "int_count"
   ]
  },
  {
   "cell_type": "code",
   "execution_count": 113,
   "metadata": {},
   "outputs": [],
   "source": [
    "# all_counted = 0\n",
    "# for f in integers[:-1]:\n",
    "#     integer = [int(x) for x in f]\n",
    "#    # print(f)\n",
    "#     _, int_count = inversions_count(integer, 0)\n",
    "#     all_counted+=int_count"
   ]
  },
  {
   "cell_type": "markdown",
   "metadata": {
    "heading_collapsed": true
   },
   "source": [
    "# Master Method for recursive algorithms"
   ]
  },
  {
   "cell_type": "markdown",
   "metadata": {
    "hidden": true
   },
   "source": [
    "![Master method](../images/mastermethod.png)"
   ]
  },
  {
   "cell_type": "markdown",
   "metadata": {
    "hidden": true
   },
   "source": [
    "A refers to the number of recursive calls, or the number of subproblems that get solved. B is the factor by which the subproblem size is smaller than the original problem size. And D is the exponent and the running time of the work done outside of the recursive calls"
   ]
  },
  {
   "cell_type": "markdown",
   "metadata": {
    "heading_collapsed": true
   },
   "source": [
    "# Binary Search Recursive"
   ]
  },
  {
   "cell_type": "markdown",
   "metadata": {
    "hidden": true
   },
   "source": [
    "![Binary search](../images/binary_search_gif.gif)"
   ]
  },
  {
   "cell_type": "code",
   "execution_count": 155,
   "metadata": {
    "hidden": true
   },
   "outputs": [],
   "source": [
    "#only for sorted arrays\n",
    "def binary_search_recursive(input_array, guess_key):\n",
    "    n = len(input_array)\n",
    "    \n",
    "    print(input_array)\n",
    "    half_index = n//2\n",
    "    \n",
    "    if n > 1:\n",
    "        if guess_key == input_array[half_index]:\n",
    "            print('Key is found')\n",
    "        elif guess_key>input_array[half_index]:\n",
    "            binary_search_recursive(input_array[half_index:], guess_key)\n",
    "        else:\n",
    "            binary_search_recursive(input_array[:half_index], guess_key)\n",
    "            \n",
    "    else:\n",
    "        print('Key is not found')\n"
   ]
  },
  {
   "cell_type": "code",
   "execution_count": 166,
   "metadata": {
    "hidden": true
   },
   "outputs": [
    {
     "name": "stdout",
     "output_type": "stream",
     "text": [
      "[1, 2, 3, 4, 5, 7, 8, 9, 10, 11, 12]\n",
      "Key is found\n"
     ]
    }
   ],
   "source": [
    "i_a = [1, 2, 3, 4, 5, 7, 8, 9, 10, 11, 12]\n",
    "binary_search_recursive(i_a, 7)"
   ]
  },
  {
   "cell_type": "markdown",
   "metadata": {},
   "source": [
    "# Quick sort"
   ]
  },
  {
   "cell_type": "markdown",
   "metadata": {},
   "source": [
    "![Quick step](../images/Sorting_quicksort_anim-2.gif)"
   ]
  },
  {
   "cell_type": "markdown",
   "metadata": {},
   "source": [
    "![Quick sort](../images/pseudocode_quicksort.png)"
   ]
  },
  {
   "cell_type": "markdown",
   "metadata": {},
   "source": [
    "The best way to choose pivot is to choose pivot randomly"
   ]
  },
  {
   "cell_type": "code",
   "execution_count": 1055,
   "metadata": {
    "code_folding": []
   },
   "outputs": [],
   "source": [
    "comparisons=0\n",
    "\n",
    "def quick_sort_first_pivot(A):\n",
    "    global comparisons\n",
    "    if len(A)>1:\n",
    "        comparisons+=len(A)-1\n",
    "        pivot = A[0]\n",
    "        i = 1\n",
    "        for j in range(1, len(A)):\n",
    "            if A[j] < pivot:\n",
    "                A[j], A[i] = A[i], A[j]\n",
    "                i+=1\n",
    "        A[0], A[i-1] = A[i-1], A[0]\n",
    "    else:\n",
    "        return A\n",
    "    A[:i-1] = quick_sort_first_pivot(A[:i-1])\n",
    "    A[i:] = quick_sort_first_pivot(A[i:])\n",
    "    \n",
    "    return A\n",
    "\n",
    "#quick_sort_first_pivot([2, 20, 1, 15, 3]  )"
   ]
  },
  {
   "cell_type": "code",
   "execution_count": 1056,
   "metadata": {},
   "outputs": [],
   "source": [
    "with open('../extra_files/QuickSort.txt') as f:\n",
    "    integers = f.read().strip().split('\\n')\n",
    "\n",
    "integers = [int(x) for x in integers]"
   ]
  },
  {
   "cell_type": "code",
   "execution_count": 1057,
   "metadata": {},
   "outputs": [],
   "source": [
    "_ = quick_sort_first_pivot(integers)"
   ]
  },
  {
   "cell_type": "code",
   "execution_count": 1058,
   "metadata": {},
   "outputs": [
    {
     "data": {
      "text/plain": [
       "162085"
      ]
     },
     "execution_count": 1058,
     "metadata": {},
     "output_type": "execute_result"
    }
   ],
   "source": [
    "#162085\n",
    "comparisons"
   ]
  },
  {
   "cell_type": "code",
   "execution_count": 1060,
   "metadata": {},
   "outputs": [],
   "source": [
    "comparisons=0\n",
    "\n",
    "def quick_sort_last_pivot(A):\n",
    "    global comparisons\n",
    "    if len(A)>1:\n",
    "        comparisons+=len(A)-1\n",
    "        pivot = A[-1]\n",
    "        A[0], A[-1] = A[-1], A[0]\n",
    "        i = 1\n",
    "        for j in range(1, len(A)):\n",
    "            if A[j] < pivot:\n",
    "                A[j], A[i] = A[i], A[j]\n",
    "                i+=1\n",
    "        A[0], A[i-1] = A[i-1], A[0]\n",
    "    else:\n",
    "        return A\n",
    "    A[:i-1] = quick_sort_last_pivot(A[:i-1])\n",
    "    A[i:] = quick_sort_last_pivot(A[i:])\n",
    "    \n",
    "    return A\n",
    "\n",
    "#quick_sort_last_pivot([2, 20, 1, 15, 3]  )"
   ]
  },
  {
   "cell_type": "code",
   "execution_count": 1061,
   "metadata": {},
   "outputs": [],
   "source": [
    "with open('../extra_files/QuickSort.txt') as f:\n",
    "    integers = f.read().strip().split('\\n')\n",
    "\n",
    "integers = [int(x) for x in integers]\n",
    "_ = quick_sort_last_pivot(integers)"
   ]
  },
  {
   "cell_type": "code",
   "execution_count": 1062,
   "metadata": {},
   "outputs": [
    {
     "data": {
      "text/plain": [
       "164123"
      ]
     },
     "execution_count": 1062,
     "metadata": {},
     "output_type": "execute_result"
    }
   ],
   "source": [
    "comparisons"
   ]
  },
  {
   "cell_type": "code",
   "execution_count": 1066,
   "metadata": {},
   "outputs": [],
   "source": [
    "comparisons=0\n",
    "\n",
    "def find_median_of_three(A):\n",
    "    if len(A)%2==0:\n",
    "        med_not_sorted = A[len(A)//2 -1]\n",
    "    else:\n",
    "        med_not_sorted = A[len(A)//2] \n",
    "    med_array = [A[0], A[-1], med_not_sorted]\n",
    "    max_med = max(med_array)\n",
    "    min_med = min(med_array)\n",
    "    if len(A)<3:\n",
    "        return max_med\n",
    "    else:\n",
    "        med = [i for i in med_array if (i!=max_med) & (i!=min_med)]\n",
    "        return med[0]\n",
    "\n",
    "def quick_sort_median_pivot(A):\n",
    "    global comparisons\n",
    "    if len(A)>1:\n",
    "        comparisons+=len(A)-1\n",
    "        pivot = find_median_of_three(A)\n",
    "        pivot_index = A.index(pivot)\n",
    "        A[0], A[pivot_index] = A[pivot_index], A[0]\n",
    "        i = 1\n",
    "        for j in range(1, len(A)):\n",
    "            if A[j] < pivot:\n",
    "                A[j], A[i] = A[i], A[j]\n",
    "                i+=1\n",
    "        A[0], A[i-1] = A[i-1], A[0]\n",
    "    else:\n",
    "        return A\n",
    "    A[:i-1] = quick_sort_median_pivot(A[:i-1])\n",
    "    A[i:] = quick_sort_median_pivot(A[i:])\n",
    "    \n",
    "    return A\n",
    "\n",
    "#quick_sort_median_pivot([2, 20, 1, 15, 3]  )"
   ]
  },
  {
   "cell_type": "code",
   "execution_count": 1067,
   "metadata": {},
   "outputs": [],
   "source": [
    "with open('../extra_files/QuickSort.txt') as f:\n",
    "    integers = f.read().strip().split('\\n')\n",
    "\n",
    "integers = [int(x) for x in integers]\n",
    "_ = quick_sort_median_pivot(integers)"
   ]
  },
  {
   "cell_type": "code",
   "execution_count": 1068,
   "metadata": {},
   "outputs": [
    {
     "data": {
      "text/plain": [
       "138382"
      ]
     },
     "execution_count": 1068,
     "metadata": {},
     "output_type": "execute_result"
    }
   ],
   "source": [
    "comparisons"
   ]
  },
  {
   "cell_type": "code",
   "execution_count": 399,
   "metadata": {},
   "outputs": [],
   "source": [
    "#if repeats exist\n",
    "import random\n",
    "\n",
    "def quick_sort_with_repeats(A):\n",
    "    if len(A) > 1:\n",
    "        pivot = random.choice(A)\n",
    "        #print('pivot', pivot)\n",
    "        l = 0\n",
    "        i = 0\n",
    "        r = len(A)-1\n",
    "        \n",
    "        while r>=i:\n",
    "            if A[i]< pivot:\n",
    "                A[l], A[i] = A[i], A[l]\n",
    "                i+=1\n",
    "                l+=1\n",
    "                #print(A)\n",
    "            elif A[i] == pivot:\n",
    "                i+=1\n",
    "                #print(A)\n",
    "            else:\n",
    "                A[i], A[r] = A[r], A[i]\n",
    "                r-=1\n",
    "                #print(A)\n",
    "        less = A[:l]\n",
    "        #print('less', less)\n",
    "        more = A[r:]\n",
    "        #print('more', more)\n",
    "        return quick_sort(less) + A[l:r] + quick_sort(more)    \n",
    "    else:\n",
    "        return list(A)\n",
    "\n",
    "#quick_sort([6, 1, 1, 8 ,10])"
   ]
  },
  {
   "cell_type": "code",
   "execution_count": 397,
   "metadata": {},
   "outputs": [
    {
     "name": "stdout",
     "output_type": "stream",
     "text": [
      "3098765434567890900\n",
      "[3, 0, 9, 8, 7, 6, 5, 4, 3, 4, 5, 6, 7, 8, 9, 0, 9, 0, 0]\n"
     ]
    }
   ],
   "source": [
    "input_array = [int(x) for x in input()]\n",
    "print(input_array)"
   ]
  },
  {
   "cell_type": "code",
   "execution_count": 400,
   "metadata": {},
   "outputs": [
    {
     "data": {
      "text/plain": [
       "[0, 0, 0, 0, 3, 3, 4, 4, 5, 5, 6, 6, 7, 7, 8, 8, 9, 9, 9]"
      ]
     },
     "execution_count": 400,
     "metadata": {},
     "output_type": "execute_result"
    }
   ],
   "source": [
    "quick_sort(input_array)"
   ]
  },
  {
   "cell_type": "code",
   "execution_count": 453,
   "metadata": {},
   "outputs": [],
   "source": [
    "#if there are no repeats\n",
    "import random\n",
    "\n",
    "def quick_sort(A):\n",
    "    if len(A) > 1:\n",
    "        pivot = random.choice(A)\n",
    "      #  print('pivot', pivot)\n",
    "        i = 0       \n",
    "        for j in range(len(A)):\n",
    "            if A[j]<= pivot:\n",
    "                A[j], A[i] = A[i], A[j]\n",
    "                i+=1\n",
    "        pivot_index = A.index(pivot)\n",
    "#         print('A',A)\n",
    "#         print(i)\n",
    "#         print(pivot_index)\n",
    "#         A[pivot_index], A[i] = A[i], A[pivot_index]\n",
    "#        print(A)\n",
    "        less = A[:i]\n",
    "#         print('less', less)\n",
    "        more = A[i:]\n",
    "#         print('more', more)\n",
    "        return quick_sort(less) + quick_sort(more)    \n",
    "    else:\n",
    "        return list(A)"
   ]
  }
 ],
 "metadata": {
  "kernelspec": {
   "display_name": "Python 3",
   "language": "python",
   "name": "python3"
  },
  "language_info": {
   "codemirror_mode": {
    "name": "ipython",
    "version": 3
   },
   "file_extension": ".py",
   "mimetype": "text/x-python",
   "name": "python",
   "nbconvert_exporter": "python",
   "pygments_lexer": "ipython3",
   "version": "3.8.6"
  },
  "toc": {
   "base_numbering": 1,
   "nav_menu": {},
   "number_sections": true,
   "sideBar": true,
   "skip_h1_title": false,
   "title_cell": "Table of Contents",
   "title_sidebar": "Contents",
   "toc_cell": false,
   "toc_position": {},
   "toc_section_display": true,
   "toc_window_display": false
  }
 },
 "nbformat": 4,
 "nbformat_minor": 2
}
