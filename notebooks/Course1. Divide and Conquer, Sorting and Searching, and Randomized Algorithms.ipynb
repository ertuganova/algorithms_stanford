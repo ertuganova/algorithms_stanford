{
 "cells": [
  {
   "cell_type": "markdown",
   "metadata": {},
   "source": [
    "## Merge Sort"
   ]
  },
  {
   "cell_type": "markdown",
   "metadata": {},
   "source": [
    "Divide and conquer.  \n",
    "Improves over selection, insertion and bubble sorts.\n",
    "![Merge step](../images/merge.png)"
   ]
  },
  {
   "cell_type": "code",
   "execution_count": 127,
   "metadata": {},
   "outputs": [
    {
     "name": "stdout",
     "output_type": "stream",
     "text": [
      "098765\n",
      "[0, 9, 8, 7, 6, 5]\n"
     ]
    }
   ],
   "source": [
    "input_array = [int(x) for x in input()]\n",
    "print(input_array)"
   ]
  },
  {
   "cell_type": "code",
   "execution_count": 128,
   "metadata": {},
   "outputs": [
    {
     "data": {
      "text/plain": [
       "[0, 5, 6, 7, 8, 9]"
      ]
     },
     "execution_count": 128,
     "metadata": {},
     "output_type": "execute_result"
    }
   ],
   "source": [
    "def merge_sort(input_array):\n",
    "    length = len(input_array)\n",
    "    if length > 1:\n",
    "        first_array = input_array[:length//2]\n",
    "        second_array = input_array[length//2:]\n",
    "        merge_sort(first_array)\n",
    "        merge_sort(second_array)\n",
    "        \n",
    "        i = 0\n",
    "        j = 0\n",
    "        k = 0\n",
    "        \n",
    "        while (len(first_array) > i and len(second_array) > j):\n",
    "            if first_array[i] <= second_array[j]:\n",
    "                input_array[k] = first_array[i]\n",
    "               # print(input_array)\n",
    "                i+=1\n",
    "                k+=1\n",
    "            else:\n",
    "                input_array[k] = second_array[j]\n",
    "                #print(input_array)\n",
    "                j+=1\n",
    "                k+=1\n",
    "            \n",
    "        while len(first_array) > i:\n",
    "            input_array[k] = first_array[i]\n",
    "            k+=1\n",
    "            i+=1\n",
    "            \n",
    "        while len(second_array) > j:\n",
    "            input_array[k] = second_array[j]\n",
    "            k+=1   \n",
    "            j+=1\n",
    "            \n",
    "    return input_array\n",
    "\n",
    "out = merge_sort(input_array)\n",
    "out"
   ]
  }
 ],
 "metadata": {
  "kernelspec": {
   "display_name": "Python 3",
   "language": "python",
   "name": "python3"
  },
  "language_info": {
   "codemirror_mode": {
    "name": "ipython",
    "version": 3
   },
   "file_extension": ".py",
   "mimetype": "text/x-python",
   "name": "python",
   "nbconvert_exporter": "python",
   "pygments_lexer": "ipython3",
   "version": "3.7.5"
  }
 },
 "nbformat": 4,
 "nbformat_minor": 2
}
