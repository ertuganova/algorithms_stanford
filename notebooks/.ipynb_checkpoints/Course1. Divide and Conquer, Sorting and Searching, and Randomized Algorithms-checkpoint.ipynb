{
 "cells": [
  {
   "cell_type": "markdown",
   "metadata": {},
   "source": [
    "# Merge Sort"
   ]
  },
  {
   "cell_type": "markdown",
   "metadata": {},
   "source": [
    "Divide and conquer.  \n",
    "Improves over selection, insertion and bubble sorts.\n",
    "![Merge step](../images/merge.png)"
   ]
  },
  {
   "cell_type": "markdown",
   "metadata": {},
   "source": [
    "![Merge step](../images/Merge-sort-example-300px.gif)"
   ]
  },
  {
   "cell_type": "code",
   "execution_count": 13,
   "metadata": {},
   "outputs": [
    {
     "name": "stdout",
     "output_type": "stream",
     "text": [
      "863984687\n",
      "[8, 6, 3, 9, 8, 4, 6, 8, 7]\n"
     ]
    }
   ],
   "source": [
    "input_array = [int(x) for x in input()]\n",
    "print(input_array)"
   ]
  },
  {
   "cell_type": "code",
   "execution_count": 32,
   "metadata": {
    "code_folding": []
   },
   "outputs": [
    {
     "data": {
      "text/plain": [
       "[3, 4, 6, 6, 7, 8, 8, 8, 9]"
      ]
     },
     "execution_count": 32,
     "metadata": {},
     "output_type": "execute_result"
    }
   ],
   "source": [
    "def merge_sort(input_array):\n",
    "    length = len(input_array)\n",
    "    if length > 1:\n",
    "        first_array = input_array[:length//2]\n",
    "        second_array = input_array[length//2:]\n",
    "        merge_sort(first_array)\n",
    "        merge_sort(second_array)\n",
    "        \n",
    "        i = 0\n",
    "        j = 0\n",
    "        k = 0\n",
    "        \n",
    "        while (len(first_array) > i and len(second_array) > j):\n",
    "            if first_array[i] <= second_array[j]:\n",
    "                input_array[k] = first_array[i]\n",
    "               # print(input_array)\n",
    "                i+=1\n",
    "                k+=1\n",
    "            else:\n",
    "                input_array[k] = second_array[j]\n",
    "                #print(input_array)\n",
    "                j+=1\n",
    "                k+=1\n",
    "            \n",
    "        while len(first_array) > i:\n",
    "            input_array[k] = first_array[i]\n",
    "            k+=1\n",
    "            i+=1\n",
    "            \n",
    "        while len(second_array) > j:\n",
    "            input_array[k] = second_array[j]\n",
    "            k+=1   \n",
    "            j+=1\n",
    "            \n",
    "    return input_array\n",
    "\n",
    "out = merge_sort(input_array)\n",
    "out"
   ]
  },
  {
   "cell_type": "code",
   "execution_count": null,
   "metadata": {},
   "outputs": [],
   "source": [
    "def merge_sort_2(input_array):\n",
    "    \n",
    "    array_length = len(input_array)  \n",
    "    \n",
    "    if array_length > 1:\n",
    "    \n",
    "        array_1 = input_array[:array_length//2]\n",
    "        array_2 = input_array[array_length//2:]\n",
    "        \n",
    "        array_1 = merge_sort_2(array_1)\n",
    "        array_2 = merge_sort_2(array_2)\n",
    "        \n",
    "        i = 0\n",
    "        j = 0\n",
    "        k = 0\n",
    "        \n",
    "        while ((len(array_1)>i) and (len(array_2)>j)):\n",
    "            if array_1[i] <= array_2[j]:\n",
    "                input_array[k] = array_1[i] \n",
    "                i+=1\n",
    "                k+=1\n",
    "            \n",
    "            else:\n",
    "                input_array[k] = array_2[j]\n",
    "                j+=1\n",
    "                k+=1\n",
    "    \n",
    "        \n",
    "        while len(array_1)>i:\n",
    "            input_array[k] = array_1[i]\n",
    "            i+=1\n",
    "            k+=1\n",
    "            \n",
    "        while len(array_2)>j:\n",
    "            input_array[k] = array_2[j]\n",
    "            j+=1\n",
    "            k+=1\n",
    "    \n",
    "    return input_array\n",
    "            \n",
    "out = merge_sort_2(input_array)\n",
    "out"
   ]
  },
  {
   "cell_type": "markdown",
   "metadata": {},
   "source": [
    "# Inversion Count "
   ]
  },
  {
   "cell_type": "markdown",
   "metadata": {},
   "source": [
    "Inversion Count for an array indicates – how far (or close) the array is from being sorted. If the array is already sorted, then the inversion count is 0, but if the array is sorted in the reverse order, the inversion count is the maximum. \n",
    "Formally speaking, two elements a[i] and a[j] form an inversion if a[i] > a[j] and i < j "
   ]
  },
  {
   "cell_type": "code",
   "execution_count": 99,
   "metadata": {},
   "outputs": [
    {
     "data": {
      "text/plain": [
       "([1, 1, 1, 5], 2)"
      ]
     },
     "execution_count": 99,
     "metadata": {},
     "output_type": "execute_result"
    }
   ],
   "source": [
    "def inversions_count(input_array, counted_inversions):\n",
    "    \n",
    "    array_length = len(input_array)  \n",
    "    \n",
    "    if array_length > 1:\n",
    "    \n",
    "        array_1 = input_array[:array_length//2]\n",
    "        array_2 = input_array[array_length//2:]\n",
    "        \n",
    "        array_1, counted_inversions = inversions_count(array_1, counted_inversions)\n",
    "        array_2, counted_inversions = inversions_count(array_2, counted_inversions)\n",
    "        \n",
    "        i = 0\n",
    "        j = 0\n",
    "        k = 0\n",
    "        \n",
    "        while ((len(array_1)>i) and (len(array_2)>j)):\n",
    "            if array_1[i] <= array_2[j]:\n",
    "                input_array[k] = array_1[i] \n",
    "                i+=1\n",
    "                k+=1\n",
    "            \n",
    "            else:\n",
    "                input_array[k] = array_2[j]\n",
    "                j+=1\n",
    "                k+=1\n",
    "                counted_inversions+=len(array_1[i:])\n",
    "    \n",
    "        \n",
    "        while len(array_1)>i:\n",
    "            input_array[k] = array_1[i]\n",
    "            i+=1\n",
    "            k+=1\n",
    "            \n",
    "        while len(array_2)>j:\n",
    "            input_array[k] = array_2[j]\n",
    "            j+=1\n",
    "            k+=1\n",
    "    \n",
    "    return input_array, counted_inversions\n",
    "            \n",
    "out = inversions_count([1, 5, 1, 1], 0)\n",
    "out"
   ]
  },
  {
   "cell_type": "code",
   "execution_count": 122,
   "metadata": {},
   "outputs": [],
   "source": [
    "with open('../extra_files/IntegerArray.txt') as f:\n",
    "    integers = f.read().strip().split('\\n')"
   ]
  },
  {
   "cell_type": "code",
   "execution_count": 126,
   "metadata": {},
   "outputs": [],
   "source": [
    "integers = [int(x) for x in integers]"
   ]
  },
  {
   "cell_type": "code",
   "execution_count": 127,
   "metadata": {},
   "outputs": [],
   "source": [
    "_, int_count = inversions_count(integers, 0)"
   ]
  },
  {
   "cell_type": "code",
   "execution_count": 128,
   "metadata": {},
   "outputs": [
    {
     "data": {
      "text/plain": [
       "2407905288"
      ]
     },
     "execution_count": 128,
     "metadata": {},
     "output_type": "execute_result"
    }
   ],
   "source": [
    "int_count"
   ]
  },
  {
   "cell_type": "code",
   "execution_count": 113,
   "metadata": {},
   "outputs": [],
   "source": [
    "# all_counted = 0\n",
    "# for f in integers[:-1]:\n",
    "#     integer = [int(x) for x in f]\n",
    "#    # print(f)\n",
    "#     _, int_count = inversions_count(integer, 0)\n",
    "#     all_counted+=int_count"
   ]
  },
  {
   "cell_type": "markdown",
   "metadata": {},
   "source": [
    "# Master Method for recursive algorithms"
   ]
  },
  {
   "cell_type": "markdown",
   "metadata": {},
   "source": [
    "![Master method](../images/mastermethod.png)"
   ]
  },
  {
   "cell_type": "markdown",
   "metadata": {},
   "source": [
    "A refers to the number of recursive calls, or the number of subproblems that get solved. B is the factor by which the subproblem size is smaller than the original problem size. And D is the exponent and the running time of the work done outside of the recursive calls"
   ]
  },
  {
   "cell_type": "markdown",
   "metadata": {},
   "source": [
    "# Binary Search Recursive"
   ]
  },
  {
   "cell_type": "markdown",
   "metadata": {},
   "source": [
    "![Binary search](../images/binary_search_gif.gif)"
   ]
  },
  {
   "cell_type": "code",
   "execution_count": 155,
   "metadata": {},
   "outputs": [],
   "source": [
    "#only for sorted arrays\n",
    "def binary_search_recursive(input_array, guess_key):\n",
    "    n = len(input_array)\n",
    "    \n",
    "    print(input_array)\n",
    "    half_index = n//2\n",
    "    \n",
    "    if n > 1:\n",
    "        if guess_key == input_array[half_index]:\n",
    "            print('Key is found')\n",
    "        elif guess_key>input_array[half_index]:\n",
    "            binary_search_recursive(input_array[half_index:], guess_key)\n",
    "        else:\n",
    "            binary_search_recursive(input_array[:half_index], guess_key)\n",
    "            \n",
    "    else:\n",
    "        print('Key is not found')\n"
   ]
  },
  {
   "cell_type": "code",
   "execution_count": 166,
   "metadata": {},
   "outputs": [
    {
     "name": "stdout",
     "output_type": "stream",
     "text": [
      "[1, 2, 3, 4, 5, 7, 8, 9, 10, 11, 12]\n",
      "Key is found\n"
     ]
    }
   ],
   "source": [
    "i_a = [1, 2, 3, 4, 5, 7, 8, 9, 10, 11, 12]\n",
    "binary_search_recursive(i_a, 7)"
   ]
  }
 ],
 "metadata": {
  "kernelspec": {
   "display_name": "Python 3",
   "language": "python",
   "name": "python3"
  },
  "language_info": {
   "codemirror_mode": {
    "name": "ipython",
    "version": 3
   },
   "file_extension": ".py",
   "mimetype": "text/x-python",
   "name": "python",
   "nbconvert_exporter": "python",
   "pygments_lexer": "ipython3",
   "version": "3.8.6"
  },
  "toc": {
   "base_numbering": 1,
   "nav_menu": {},
   "number_sections": true,
   "sideBar": true,
   "skip_h1_title": false,
   "title_cell": "Table of Contents",
   "title_sidebar": "Contents",
   "toc_cell": false,
   "toc_position": {},
   "toc_section_display": true,
   "toc_window_display": false
  }
 },
 "nbformat": 4,
 "nbformat_minor": 2
}
